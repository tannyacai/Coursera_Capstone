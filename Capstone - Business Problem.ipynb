{
    "cells": [
        {
            "cell_type": "markdown",
            "metadata": {
                "collapsed": true
            },
            "source": "# IBM Applied Data Science Capstone"
        },
        {
            "cell_type": "markdown",
            "metadata": {},
            "source": "## Business Problem"
        },
        {
            "cell_type": "markdown",
            "metadata": {},
            "source": "With nearly 3 million people, Greater Toronto Area (GTA) is a prospering area in Ontario, Canada where over 27 million tourists and students alike go to visit every year. As the area continues to expand its growing healthcare and finance presence, its academic and research institutions, and lively city life, there will be increasing interest from investors and developers in understanding the distribution of venues in the region, and how that can impact opportunities for new buildings and businesses, especially hotels for visiting travelers, in the area. \n\nThe goal here is to identify where the most optimal neighborhoods to buy or build a hotel, with the intention of being in an area with the least number of hotels as possible, and overlaying areas with the number of venues and attractions in the region. \n\nAudience: This analysis is intended for investors and developers who are interested in gaining a deeper view of where might be optimal locations for starting up a hotel business, especially in the context of surrounding venues and attractions."
        },
        {
            "cell_type": "markdown",
            "metadata": {},
            "source": "## Data"
        },
        {
            "cell_type": "markdown",
            "metadata": {},
            "source": "The data used will come from the following sources:\n* Neighborhood and borough data: from Wikipedia page https://en.wikipedia.org/wiki/List_of_postal_codes_of_Canada:_M\n* Data on common venues: from Foursquare API\n* Longitude and latitude data: from Geocoder Python package\n\nThe neighborhood and borough data will be used to determine the various neighborhoods in Toronto, with longitudinal and latitudinal data used to geographically locate the boroughs. \n\nSubsequently, data on the various venues and attractions within each neighborhood can be pulled from the Foursquare API to build an understanding of the distribution of venues within each neighborhood. Additionally, hotel data can be pulled from the Foursquare API as well to understand distribution of hotels around the GTA."
        },
        {
            "cell_type": "code",
            "execution_count": null,
            "metadata": {},
            "outputs": [],
            "source": ""
        }
    ],
    "metadata": {
        "kernelspec": {
            "display_name": "Python 3.6",
            "language": "python",
            "name": "python3"
        },
        "language_info": {
            "codemirror_mode": {
                "name": "ipython",
                "version": 3
            },
            "file_extension": ".py",
            "mimetype": "text/x-python",
            "name": "python",
            "nbconvert_exporter": "python",
            "pygments_lexer": "ipython3",
            "version": "3.6.9"
        }
    },
    "nbformat": 4,
    "nbformat_minor": 1
}