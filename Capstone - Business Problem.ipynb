{
    "cells": [
        {
            "cell_type": "markdown",
            "metadata": {
                "collapsed": true
            },
            "source": "# IBM Applied Data Science Capstone"
        },
        {
            "cell_type": "markdown",
            "metadata": {},
            "source": "## Business Problem"
        },
        {
            "cell_type": "markdown",
            "metadata": {},
            "source": "The Boston region is a prospering area in the Northeast of the United States where tourists and students alike go to visit every year. As the area continues to expand its growing biotech and healthcare presence, its academic and research institutions, and beautiful coastal views and beachside activities, there will be increasing interest from investors and developers in understanding the distribution of venues in the region, and how that can impact opportunities for new buildings and businesses, especially hotels for visiting travelers, in the area. \n\nThe goal here is to identify where the most optimal neighborhoods to buy or build a hotel, with the intention of being in an area with the least number of hotels as possible, and overlaying areas with the number of venues and attractions in the region. "
        },
        {
            "cell_type": "markdown",
            "metadata": {},
            "source": "## Data"
        },
        {
            "cell_type": "markdown",
            "metadata": {},
            "source": "The data used will come from the following sources:\n* Neighborhood and borough data: from Wikipedia\n* Data on common venues: from Foursquare API\n* Longitude and latitude data: from Geocoder Python package\n"
        },
        {
            "cell_type": "code",
            "execution_count": null,
            "metadata": {},
            "outputs": [],
            "source": ""
        }
    ],
    "metadata": {
        "kernelspec": {
            "display_name": "Python 3.6",
            "language": "python",
            "name": "python3"
        },
        "language_info": {
            "codemirror_mode": {
                "name": "ipython",
                "version": 3
            },
            "file_extension": ".py",
            "mimetype": "text/x-python",
            "name": "python",
            "nbconvert_exporter": "python",
            "pygments_lexer": "ipython3",
            "version": "3.6.9"
        }
    },
    "nbformat": 4,
    "nbformat_minor": 1
}